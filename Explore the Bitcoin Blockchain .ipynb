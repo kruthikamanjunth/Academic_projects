{
 "cells": [
  {
   "cell_type": "markdown",
   "id": "0c8ea198-dce5-47e7-a00f-ec522d829785",
   "metadata": {},
   "source": [
    "1.1  Extract Information From Your Own Transaction"
   ]
  },
  {
   "cell_type": "code",
   "execution_count": 3,
   "id": "8f20bf76-327c-4f1e-9870-3e518b98ace3",
   "metadata": {},
   "outputs": [
    {
     "name": "stdout",
     "output_type": "stream",
     "text": [
      "Block Data (JSON Format):\n",
      "{'hash': '00000000000000000aebb32793cb81c9449d109c9d3783590d13d31b2e465703', 'confirmations': 13094, 'size': 958735, 'height': 866234, 'version': 771751936, 'versionHex': '2e000000', 'merkleroot': '4728d569f8251f6135ff5603d16bc5be8ecead6d9dadc46817343a970061b540', 'txcount': 1794, 'nTx': 0, 'num_tx': 1794, 'tx': ['409802088faaa67e8a504ece2458e93d77179b9a443e76d5576f21cb54e4f9ec', '485e26bea603ee6d0b8f80526ece16467d1c6fff4d8720821a81473671b1a90e', '28a6e3a575a1fc373eb77ed48d85da904a61668cc0071871be677cb27692a066', 'f33764d6dbd128b999c43a9534db1acdf12c2fe597227594fc7c3f972fdd65c2', 'c0a217046d693d55e3c82980b171df9762fe86651e40a94607d3fcff60187256', '2ae7e5dd8552fe38ad222646e42d1ed1c5232b36e838624b167a9ec8ed5484ed', 'b82b87d9b74e05faf7e6c7e507eada95b2d8256aa714736f9c63d063557a4713', '77767951bc2cf02b886706a75f9ebcf5b1172f3219318d518aebfc43eebc69c1', '55b6fdb5df18e133f7c91f8632f965034cc4e176ca32186fbddf313bfb58d383', 'ce5eb635a7f95185e8f2503ea973e6368fa70071f33fbefac08f9d593fb50b00', '4ff21c3196023198752573e9d40c780ca21c69153beddd87781ba0d389cefea1', 'c19b8995625e0dc50cbe79115f6d41e60eee55602c9a712928cc3cf0ba9ea49f', '7e2ae7847c63cd59242bc3f0f46973ad34612443dcd82220a6f3365370903358', '1fe9548c75825d05b9d83a4805dc92af5c197425cb894dbbd0733d3eb42186d0', '38a95e482ee459d9595d4c1406527faa9477ac860c484d325461d9c121dc81ae', '18244e9bc00c528737a2f8f9642c5f751e94a1fda1a78488f8feae5ee7950fd4', '55b85330596871843911d1b0809de4424335deb746e9862c468b873a5f1a69d1', '723b457694ce94511063070887ca661f39be64c772883b3a84b40fdf07569dc3', 'f8893ddf86d60e1202a086d41f0a080db72f53bb002ee5f0d3130e9dc4e4ef96', 'e5af1211923752e0ad2c181dc0ea7075fdd3b16740b149f09c5b166f6f361104', '84a999fb9625d27cae4a6012db1cda52afa13ed02fd07e0fda9e75c2a3e11ece', '7d8505c3c60eca1ccbbb5573c13d27396187b3a309e7f885953b6c03dd31593d', '8001d711116f64ad552262acf70bfba34f9f30c2c6ebced721c020e49851c210', '6c0f03646aab7c58f4aafca3c201f89b558693105fe9c25f118eeb5823d76d9d', '69b94c47326c33f8a8957b56048a25633ce918844bf16b7f68be9e5ac102980c', '2c542d9e30795a6639a4addd9f7a8d3af61d77232566566698f909eb040efa58', '5fdac87573c39372b8fb1626964b7b1c2370199a9285161229eaa3f1f4fc61f0', '1b3291675436c5bce0a849a59bc590b76d8a3ed52916110e84f2dca34a541fe5', 'bcaed96708af0ae23375f17e6606f5c21d35927b38e583fd8ce8e9dc12362f1a', 'f4901be2a50374fc391785132015032c79c9c49c7d7cd9c090c2dd9235c4a1a0', '3a2e8bd2f8dfc6f7dec8f4c517cfbb363058bfebe53adb1844c366d14925f316', '1777b12a0183b838e3dcc4c09d272e3ac7fa3d3ab8c51826d4c0e51d4372fa54', 'ee69260cbf17944d189d9c5d9d316e7e06b8d08db599aa5f7458e33dca06efc3', 'ccc3ba092c366a4367858f96d6efd73358fdea23fb17a8fa8929697801c584eb', '25c38e8311e85974a1b646e6adee5f52588e45339b4c9e2d5fede8e2f3b7b648', '6c8bcf86aff91dd6605ca72e9d53e83b905b6cef7197f397317b695a11cbf7f0', 'ade0f346be38e3ce3448098d0f746d512e00967d13276bdba4ed5de387d70f44', '63d2e435268e14d0d8bce9f7d40196cb07ab8978554c6403d0ed402540101143', 'f77d233cfdf6654d556b65160c2fe15caa5d70d6c6a469f1fe2f2d4473542fb2', 'cbc73aeba4f649695508562f067460256ced2b779032bc68dbc238696ecc5386', 'a85daef2f1da37884625a8974583d6c9939d3adc7ea1e06b2b568a215b6f7750', 'a5173c4f42d3b2c3d78fc7428a019ca3b4f06d04217d5fed6b20ff0af8355ad8', '2e06fb3d48355875a7b91aaa897b14a1f912de7fbf0f907eb9c78d9aa02da5fe', 'c5842f11b4ebf40eff9eb33068160e0e5f71a19e3ef42c4980cc568d32c91822', '23b4644197fb528c554ad5bc0c0627ea9e7c6ac6185512be4b8bf512669b7229', '0df99ff3e1c8670da1f7bc8f949ad287eb48b23776d359247b8494fd1a521865', 'd9e2ebad9c4ab1f3beae3add59d73a064d889336abd8110dd40d647c95a79f70', 'af227c595a950a169847648fd09279d792866eefda1b1a889b73e6d72ad1f64b', '99f9e0ac81561409e6002968cef2e4161a056f87c5a0fcdbe3ebe0e43a12670f', '3a6e114a82dab69f882427d51bdf015d7c254aa230c7dd299a8a19cb4ea3f310', '87f989a980c370aebb14562771bd6485eb31aa32a5ab33bb7b1b4d340dbbf516', '952eaa9365915ec0d76da71a0776e29cab51fdaae7abf986d42a5707b08ab13f', 'af7d958b9e568a3b56b46bc2ce05499eef882d2cb492c1bea750dc2fd10058c8', '3aef6f488495c49301fc10b3094d668dc7471c61d3bffacd96e8129acefd559d', '43843340fd3c7407142418711a767aa1b2f4a20604517100123a3ac678cd0c39', '3ec13dc8852444b147ce071b61128e670bb4f9af57089eee66f10020c1faee1e', 'a87114db7b4dfb6a2eca0e947beb36413eeebb5818cf8465f027088f413b1ce9', '97bbf189ee70aaf30e5a66e70f0626c700d82ff118c8c914848c5b1d3b713f88', 'dacf476f0939ddd70041a1669abe46f60586b9d9e846fb571822656776d13371', 'a56a9e1a9cac2ec55592b3a622e12df49b93ee5bde00f943e05e1be41c424906', 'c1f80949d357e53903cca08dc3d688ed324154ab2c90c0896b14752711e635c9', '69d3a7302a7e4cff9787242b7d2dfde3dfa786ef067ffb2a3bb8d1a2d156e8bc', '78e7907beec09f1aa72e4d57432b30bf427814a25eb5c5ca3eda0eecdeacd876', '44cae4e9c7515e9f7a4daa2d2a10397aec08743c6888c4d628a153cc22abb137', 'd80cda87a2ed207069ec08f96f12bb844c4c63ecfff80611dcb059268dbdff70', '63ae0419c2c9b80630cac7d05f45daf1efa811c5d564605ff605ff6aa1144759', '167e0afdb58d2a150f8ec8d42926e38d3351639e9bc1ff0f69fb97a76f4b1bc3', 'cf499e2955d99f48b67c7b8b005888fc4b8520f73fdd0ec66bc928f549def22e', '7db7de5eaa33d4f98f13339d4746efd7d1a3db96482baa8661ad72f041bac395', '8bf5fc2005d74e3c421043e550a510fb82912d490040e6a786089916140b85c6', 'a4e6577ef226d50ff5cf4458be9e12a30c9484b6fcf2576c33a88bff71d9d3f7', '23c5e26ee1866aa8126884e070e7e75e94363d1edc5992292f721aec5bb57e74', '16580fcab8050eca3168f25a18bbd75d6369789f548fb5eb3655019db1c36c41', 'c5bad10a36e2e56ce7b1e84add5661252b7abb0c59ef235e27e895558b2afa7f', 'dd3d9fd9271773e3fb7726691fc4a24f6268c976518db1bf8cb483f8cf821e80', '707f48fd62bd0058c569f67250cf0f044210735814fdbcbb0493cddcd5421e2b', 'f119ad6c0e028cf8d5478e94da4b6bdb0dbae2a07bdc2501b34b23fcae749fbd', 'fd60980cba77be0a632982e6c83072cc014d3ffc8b74bfd222126dc35b4fcd52', 'd6413dc0f872de543d496dfc559974c2ce260f07b45c14ea37805d2219bc69d1', 'cc7217b4b054c164376850a5dca9a8bc598fb5cb4f8ccd1dcd2001669638519e', '2d37aca62a211a62b9e1caf49a8f514619bad4dd7313980fd9af5f3c5c425dd3', '7ba0d066dd888855e004b2520aed5026bce13f65ba7e712294b62867a6ee4152', 'a6e65aa216af9cf638d09adddd5f6e73c006f2526f243adcaebfddc960f7e95b', 'a874e894cff8dc70263240975f7b431f7c86bd7452e7d6a5e5dd07c3e675ae68', 'fc9f9080e2e9fda73da485cee6edf89bb4a81d85f34b8bb7bb5206b722da03d6', 'ff7a8ad37c03d6f8153633159e9bdb138878e8e14cf2cc04cea9159aa3068e3c', '1c9bb9b38b8e30d1d98540e2920836a3059b8a769bf760f694ee2a03c6e32baf', '775452d1b4d352f58305538058d9bbe015bcf19c226ee715852864ec2f9238e5', '05bd52842a72f8dd21d8b7d22a7d189bbff0928874557f20c18c00c4a479cfb5', 'e0136a2d96de5efcbb59a5ac44a2df4c9855bf071c68c0f1870892bbd95711ff', '87016fafde8a9b4c5df09dcb4b5afd1c0b1347c429195de057549ecfaead7a44', '7e9967c885c77bac33423d0c3ed904228d9e0a6edf89df277ea0657d6bf3f10a', '862366924b20122f26a98ca9885179a22842700c51e695e47066284eb1bce46a', '9818c75e7fb017bd2dc82a8241833318699818fae2f1c8d7ec8396df6e67729f', '7bf1e34a037b8fb9e5c9160211c66db37f022fd51f38b217296a8c7bb8257295', 'ceea11286c2d97dc1f769be2ed4763a84b1b67a07b118ff719617575ff6d82d1', 'a3b1389d82c38e49282d15c6bc0c7b69ba2cb8c136510a70b50a928c9a420dad', '6287c0f472a445483e8dd6d6f3cb756f252b5508af43237ec5a7d663a31787af', '6a915bdde0ff32460982890e53d11f5721389c0978418bffeffdc57f4245f960', '373283487d163c467007a1317db92037b4aadaab2cf894369786a3dfef59968a'], 'time': 1728842234, 'mediantime': 1728835074, 'nonce': 2253474672, 'bits': '180cd131', 'difficulty': 85783072943.32655, 'chainwork': '0000000000000000000000000000000000000000015e0fd50d2efbc707523afb', 'previousblockhash': '000000000000000003f6da607571b3c6b6fd1434f76454bb48959a154f799717', 'nextblockhash': '000000000000000004ab16108def265dc2f512349eea6cce3f6d45793440edef', 'coinbaseTx': {'txid': '409802088faaa67e8a504ece2458e93d77179b9a443e76d5576f21cb54e4f9ec', 'hash': '409802088faaa67e8a504ece2458e93d77179b9a443e76d5576f21cb54e4f9ec', 'version': 1, 'size': 111, 'locktime': 0, 'vin': [{'coinbase': '03ba370d2f7461616c2e636f6d2ffab3307eaf16e0381f7e1000', 'txid': '', 'vout': 0, 'scriptSig': {'asm': '', 'hex': ''}, 'sequence': 4294967295}], 'vout': [{'value': 3.12533102, 'n': 0, 'scriptPubKey': {'asm': 'OP_DUP OP_HASH160 522cf9e7626d9bd8729e5a1398ece40dad1b6a2f OP_EQUALVERIFY OP_CHECKSIG', 'hex': '76a914522cf9e7626d9bd8729e5a1398ece40dad1b6a2f88ac', 'reqSigs': 1, 'type': 'pubkeyhash', 'addresses': ['18VWHjMt4ixHddPPbs6righWTs3Sg2QNcn'], 'isTruncated': False}}], 'blockhash': '00000000000000000aebb32793cb81c9449d109c9d3783590d13d31b2e465703', 'confirmations': 13094, 'time': 1728842234, 'blocktime': 1728842234, 'blockheight': 866234}, 'totalFees': 0.0003310199999999597, 'miner': 'taal.com', 'pages': {'uri': ['/block/hash/00000000000000000aebb32793cb81c9449d109c9d3783590d13d31b2e465703/page/1'], 'size': 50000}}\n",
      "\n",
      "Extracted Information:\n",
      "Transaction Count (txcount): 1794\n",
      "Time (Human-Readable): 2024-10-13 18:57:14\n",
      "Total Fees: 0.0003310199999999597\n",
      "Confirmations: 13094\n",
      "Miner: taal.com\n"
     ]
    }
   ],
   "source": [
    "import requests\n",
    "import datetime\n",
    "\n",
    "#extracting the block height from my handcash transactions\n",
    "block_height = '866234'  \n",
    "\n",
    "# collecting block data from Whatsonchain API\n",
    "api_url = f\"https://api.whatsonchain.com/v1/bsv/main/block/height/{block_height}\"\n",
    "response = requests.get(api_url)\n",
    "\n",
    "#checking the status of the data\n",
    "if response.status_code == 200:\n",
    "    block_data = response.json()\n",
    "    print(\"Block Data (JSON Format):\")\n",
    "    print(block_data)\n",
    "    \n",
    "    # Obtaining the required information\n",
    "    tx_count = block_data.get(\"txcount\", \"N/A\")\n",
    "    unix_time = block_data.get(\"time\", \"N/A\")\n",
    "    total_fee = block_data.get(\"totalFees\", \"N/A\")\n",
    "    confirmation = block_data.get(\"confirmations\", \"N/A\")\n",
    "    miner = block_data.get(\"miner\", \"N/A\")\n",
    "    \n",
    "    # Convert Unix timestamp to human readable format\n",
    "    human_time = datetime.datetime.fromtimestamp(unix_time).strftime('%Y-%m-%d %H:%M:%S') if unix_time != \"N/A\" else \"N/A\"\n",
    "\n",
    "    print(\"\\nExtracted Information:\")\n",
    "    print(f\"Transaction Count (txcount): {tx_count}\")\n",
    "    print(f\"Time (Human-Readable): {human_time}\")\n",
    "    print(f\"Total Fees: {total_fee}\")\n",
    "    print(f\"Confirmations: {confirmation}\")\n",
    "    print(f\"Miner: {miner}\")\n",
    "else:\n",
    "    print(f\"Error fetching block data: {response.status_code}\")\n"
   ]
  },
  {
   "cell_type": "markdown",
   "id": "231ea997-fa7c-43e6-8334-ce0ed4aaf082",
   "metadata": {},
   "source": [
    "Transaction count (txcount):\n",
    "(Value = 1794)\n",
    "This represents the number of transactions included within the block. Transactions are particular records of cryptocurrency transfer between addresses. A high transaction count shows that this block is busy,containing many transfers."
   ]
  },
  {
   "cell_type": "markdown",
   "id": "65284db1-ce9d-42e3-8bb8-18db1dc564a4",
   "metadata": {},
   "source": [
    "Time (Human-Readable):\n",
    "(Value: 2024-10-13 18:57:14)\n",
    "This is the timestamp when the block was mined, stored as a Unix timestamp. Additionally, it shows the conversion of the Unix timestamp-seconds since January 1, 1970-to a human-readable date/time in UTC. It helps track when this block was created."
   ]
  },
  {
   "cell_type": "markdown",
   "id": "8c19d8ab-7ade-43b6-9d85-bc5bee729d97",
   "metadata": {},
   "source": [
    "Total Fees:\n",
    "(Value: 0.0003310199999999597 BTC)\n",
    "This is the sum of all transaction fees in the block. Miners collect these fees as a reward for processing and confirming transactions within the block. The value reflects the sum of all the fees contributed by every transaction in the block."
   ]
  },
  {
   "cell_type": "markdown",
   "id": "d713491c-887b-414b-b4c7-2df51fc63ed4",
   "metadata": {},
   "source": [
    "Confirmations:\n",
    "(Value: 12791)\n",
    "This is the amount of blocks mined after the block in subject. A block with more confirmations is more confident about the security of its transactions.The block data becomes more immutably with every confirmation of a block."
   ]
  },
  {
   "cell_type": "markdown",
   "id": "11cb4d50-04a1-424d-89f4-67c96805b295",
   "metadata": {},
   "source": [
    "Miner:\n",
    "(Value: taal.com)\n",
    "This is the entity, or mining pool, that completed the mining of a block. The competition among miners involves cryptography-based puzzles about adding a block to the blockchain, the solution of which has a prize in the block reward and transaction fees."
   ]
  },
  {
   "cell_type": "code",
   "execution_count": null,
   "id": "c0e274f5-f6f0-4201-ba8b-57b269a903e3",
   "metadata": {},
   "outputs": [],
   "source": []
  }
 ],
 "metadata": {
  "kernelspec": {
   "display_name": "Python 3 (ipykernel)",
   "language": "python",
   "name": "python3"
  },
  "language_info": {
   "codemirror_mode": {
    "name": "ipython",
    "version": 3
   },
   "file_extension": ".py",
   "mimetype": "text/x-python",
   "name": "python",
   "nbconvert_exporter": "python",
   "pygments_lexer": "ipython3",
   "version": "3.12.4"
  }
 },
 "nbformat": 4,
 "nbformat_minor": 5
}
